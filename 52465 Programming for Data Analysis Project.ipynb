{
 "cells": [
  {
   "cell_type": "markdown",
   "metadata": {},
   "source": [
    "# Programming for Data Analysis Project: Simulating a Dataset"
   ]
  },
  {
   "cell_type": "markdown",
   "metadata": {},
   "source": [
    "I found this project very hard to get a phenomenon that I was happy with.  My initial thought was to do a dataset with Economic Indicators but when I thought about it, something like currency or share prices are not random.  There is a  movement to them rather than just purely a random set of numbers.\n",
    "\n",
    "Then I thought of doing a dataset on the length of the morning school trip with the variables of weather, time of year, day of the week, setting out time and how many cars were coming before we got out onto the main road.  But I thought that was too subjective and simplistic.\n",
    "\n",
    "I then turned my attention to the fact that there is no longer a job for life and how long people stay in their jobs and what factors cause them to movce jobs.  After getting no replies form the many online Irish jobs sites for information on their job surveys I shelved this idea.\n",
    "\n",
    "My attention then went back to the cso.ie website and I found a travel survey.  I had decided to look at a travel dataset. I wanted to look at how people travel, how long they travel for, distance covered and the reason for the travel all of these for inside and outside of dublin.  \n",
    "\n",
    "But because there were only 3 variables even though they would be doubled I decided to reexamine my initial thougths of doing a dataset from my degree in Economics and Finance and look at some Economic indicators namely GDP, employment growth, Interest rates and currency exchange rate with the British Pound Sterling.\n",
    "\n",
    "I eventually found a couple of ways to simulate share prices.  One is called Geometric Brownian Motion and the other is using cumulative sumation in time series.  Geometric Brownian Motion is very interesting and is used to simulate Share prices in the real world (it has its limitations in share price simulation) and I will adapt them to simulate the currency exchange rate of the euro and the British Pound Sterling.   "
   ]
  },
  {
   "cell_type": "code",
   "execution_count": null,
   "metadata": {},
   "outputs": [],
   "source": []
  },
  {
   "cell_type": "code",
   "execution_count": null,
   "metadata": {},
   "outputs": [],
   "source": []
  },
  {
   "cell_type": "code",
   "execution_count": 1,
   "metadata": {},
   "outputs": [],
   "source": [
    "import numpy as np\n",
    "import matplotlib.pyplot as plt\n",
    "import pandas as pd\n",
    "import seaborn as sns"
   ]
  },
  {
   "cell_type": "code",
   "execution_count": 3,
   "metadata": {},
   "outputs": [],
   "source": [
    "prng = pd.period_range('01/2010', '09/2018', freq='M')\n",
    "\n"
   ]
  },
  {
   "cell_type": "code",
   "execution_count": 3,
   "metadata": {},
   "outputs": [
    {
     "name": "stdout",
     "output_type": "stream",
     "text": [
      "0    a\n",
      "1    b\n",
      "2    c\n",
      "3    d\n",
      "dtype: object\n"
     ]
    }
   ],
   "source": [
    "data = np.array(['a','b','c','d'])\n",
    "s = pd.Series(data)\n",
    "print(s)"
   ]
  },
  {
   "cell_type": "code",
   "execution_count": 5,
   "metadata": {},
   "outputs": [
    {
     "name": "stdout",
     "output_type": "stream",
     "text": [
      "100    a\n",
      "101    b\n",
      "102    c\n",
      "103    d\n",
      "dtype: object\n"
     ]
    }
   ],
   "source": [
    "data = np.array(['a','b','c','d'])\n",
    "s = pd.Series(data,index=[100,101,102,103])\n",
    "print(s)"
   ]
  },
  {
   "cell_type": "code",
   "execution_count": 6,
   "metadata": {},
   "outputs": [
    {
     "data": {
      "text/plain": [
       "<matplotlib.axes._subplots.AxesSubplot at 0x1cb44611b00>"
      ]
     },
     "execution_count": 6,
     "metadata": {},
     "output_type": "execute_result"
    },
    {
     "data": {
      "image/png": "[encoded data removed]",
      "text/plain": [
       "<Figure size 432x288 with 1 Axes>"
      ]
     },
     "metadata": {
      "needs_background": "light"
     },
     "output_type": "display_data"
    }
   ],
   "source": [
    "ts = pd.Series(np.random.randn(1000), index=pd.date_range('1/1/2000', periods=1000))\n",
    "\n",
    "ts = ts.cumsum()\n",
    "\n",
    "ts.plot()\n"
   ]
  },
  {
   "cell_type": "code",
   "execution_count": 11,
   "metadata": {},
   "outputs": [
    {
     "data": {
      "text/plain": [
       "array([-11, -10,  -6, -13, -13,   1,  -2, -13, -11, -12,   2,  -4, -13,\n",
       "         7,   7, -13,   3,  -9, -13, -10,  -9,   5, -13,   1,  -9,   0,\n",
       "         1,  -5, -12,  -7,  -7,  -1,  -3, -10, -11, -14, -10,   2,   6,\n",
       "         1,  -1, -13,   1,   7, -10, -14,   6, -11,   4,   2,   5, -10,\n",
       "         2, -13,  -8,  -1, -12, -10,   2, -14,  -3,   7, -13,  -7, -14,\n",
       "        -8, -12,   1, -12,  -5,  -8, -13,  -2,   7,  -2,  -5,   6, -14,\n",
       "        -6,   0,   2,   6, -14,   6,  -9, -13,  -7,  -8,  -5,  -1,  -9,\n",
       "         7,  -9,   1,   5,   7, -14, -11, -10, -12])"
      ]
     },
     "execution_count": 11,
     "metadata": {},
     "output_type": "execute_result"
    }
   ],
   "source": [
    "np.random.randint(-14.00, high=8.00, size=100, dtype='i')\n"
   ]
  },
  {
   "cell_type": "code",
   "execution_count": null,
   "metadata": {},
   "outputs": [],
   "source": []
  },
  {
   "cell_type": "code",
   "execution_count": 30,
   "metadata": {},
   "outputs": [
    {
     "data": {
      "text/plain": [
       "array([  5.56184336,  -5.84532649,  -7.49352959,   1.52655058,\n",
       "         6.20123736,  -2.03764041,  13.46524472,   5.23826673,\n",
       "        -0.43009314,  -2.89913299,  -4.25965115,   6.46758187,\n",
       "        -1.6076916 , -12.14095447,  -2.7343697 ,   6.71627228,\n",
       "        -8.72672989,  -8.92244118,   0.97712819,   0.98480692,\n",
       "         3.83634665,   9.81420388,   6.33985803,   3.1864536 ,\n",
       "         6.28392604,  -4.82174219,  -3.74227537,  -7.45428218,\n",
       "        -5.63474951,   3.74113624, -11.23948267,  -1.7431074 ,\n",
       "        -1.82201518,  -0.07555429,  -1.96191793,  -5.119138  ,\n",
       "        -1.94743367,  11.03621873,  12.44764851,   0.15105959,\n",
       "         3.54589206, -10.58580862,  -4.97946361,  -2.26783131,\n",
       "        10.28339459,  -6.83734084,  -0.37164745,  13.59856204,\n",
       "         0.64168632,   3.23846782, -10.44652309,   9.17227425,\n",
       "         2.96507157,   1.35289058,  -4.27116542,  -5.34544207,\n",
       "        -2.20678253,   5.14016129,  10.5377002 ,   0.38974098,\n",
       "         4.80692317,   2.48903616,   3.57231736,   4.95635562,\n",
       "         9.61711977, -11.48717932,   7.43038299,  -7.02607479,\n",
       "        -8.4006017 ,   2.11430342, -11.13919204,  10.81208577,\n",
       "         3.63752142,   6.31097476, -13.35160805,   2.72520625,\n",
       "         1.67862835,  -9.38092189,  -9.54463968,   5.5357209 ,\n",
       "        -4.93829335,   5.43677422,   1.61185434,  -2.98717404,\n",
       "        11.91868321,   9.59842591,  -3.86434765, -12.58815731,\n",
       "        -5.32744756,  -2.73043804,   5.79785549,  13.8709658 ,\n",
       "        -3.90556673,   7.39882922,   2.69031828,   5.42931   ,\n",
       "        -9.59865682,  -2.71123906,  -7.10420604,  -4.25192281])"
      ]
     },
     "execution_count": 30,
     "metadata": {},
     "output_type": "execute_result"
    }
   ],
   "source": [
    "import numpy as np\n",
    "np.random.seed(123)\n",
    "GDPchange = np.random.uniform(low=-13.8, high=14, size=(100,))\n",
    "GDPchange"
   ]
  },
  {
   "cell_type": "code",
   "execution_count": 29,
   "metadata": {},
   "outputs": [
    {
     "data": {
      "text/plain": [
       "array([  1.31,  -7.59,  -8.88,  -1.84,   1.81,  -4.62,   7.48,   1.06,\n",
       "        -3.36,  -5.29,  -6.35,   2.02,  -4.28, -12.5 ,  -5.16,   2.21,\n",
       "        -9.84,  -9.99,  -2.27,  -2.26,  -0.03,   4.63,   1.92,  -0.54,\n",
       "         1.88,  -6.79,  -5.95,  -8.85,  -7.43,  -0.11, -11.8 ,  -4.39,\n",
       "        -4.45,  -3.09,  -4.56,  -7.02,  -4.55,   5.59,   6.69,  -2.91,\n",
       "        -0.26, -11.29,  -6.91,  -4.8 ,   5.  ,  -8.37,  -3.32,   7.59,\n",
       "        -2.53,  -0.5 , -11.18,   4.13,  -0.71,  -1.97,  -6.36,  -7.2 ,\n",
       "        -4.75,   0.98,   5.2 ,  -2.72,   0.72,  -1.09,  -0.24,   0.84,\n",
       "         4.48, -11.99,   2.77,  -8.51,  -9.59,  -1.38, -11.72,   5.41,\n",
       "        -0.19,   1.9 , -13.45,  -0.9 ,  -1.72, -10.35, -10.48,   1.29,\n",
       "        -6.88,   1.22,  -1.77,  -5.36,   6.28,   4.46,  -6.04, -12.85,\n",
       "        -7.19,  -5.16,   1.5 ,   7.8 ,  -6.08,   2.75,  -0.93,   1.21,\n",
       "       -10.52,  -5.14,  -8.57,  -6.35])"
      ]
     },
     "execution_count": 29,
     "metadata": {},
     "output_type": "execute_result"
    }
   ],
   "source": [
    "np.around(GDPchange, decimals=2, out=None)"
   ]
  },
  {
   "cell_type": "code",
   "execution_count": null,
   "metadata": {},
   "outputs": [],
   "source": []
  },
  {
   "cell_type": "code",
   "execution_count": null,
   "metadata": {},
   "outputs": [],
   "source": []
  },
  {
   "cell_type": "code",
   "execution_count": null,
   "metadata": {},
   "outputs": [],
   "source": []
  },
  {
   "cell_type": "code",
   "execution_count": null,
   "metadata": {},
   "outputs": [],
   "source": []
  },
  {
   "cell_type": "markdown",
   "metadata": {},
   "source": [
    "https://en.wikipedia.org/wiki/Brownian_motion\n",
    "\n",
    "https://en.wikipedia.org/wiki/Geometric_Brownian_motion\n",
    "\n",
    "https://www.scipy-lectures.org/intro/numpy/auto_examples/plot_randomwalk.html#sphx-glr-download-intro-numpy-auto-examples-plot-randomwalk-py\n",
    "\n",
    "https://stackoverflow.com/questions/16734621/random-walk-pandas\n",
    "\n",
    "http://pandas.pydata.org/pandas-docs/version/0.13/visualization.html\n",
    "\n",
    "https://www.cso.ie/px/pxeirestat/Statire/SelectVarVal/Define.asp?maintable=FIM02&PLanguage=0\n",
    "\n",
    "https://ec.europa.eu/eurostat/statistics-explained/index.php/Employment_statistics\n",
    "\n",
    "https://www.cso.ie/en/releasesandpublications/er/gfsq/governmentfinancestatisticsquarter12018/"
   ]
  }
 ],
 "metadata": {
  "kernelspec": {
   "display_name": "Python 3",
   "language": "python",
   "name": "python3"
  },
  "language_info": {
   "codemirror_mode": {
    "name": "ipython",
    "version": 3
   },
   "file_extension": ".py",
   "mimetype": "text/x-python",
   "name": "python",
   "nbconvert_exporter": "python",
   "pygments_lexer": "ipython3",
   "version": "3.7.0"
  }
 },
 "nbformat": 4,
 "nbformat_minor": 2
}
