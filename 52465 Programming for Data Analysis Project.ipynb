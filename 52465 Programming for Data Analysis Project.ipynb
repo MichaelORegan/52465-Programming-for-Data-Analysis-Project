{
 "cells": [
  {
   "cell_type": "markdown",
   "metadata": {},
   "source": [
    "# Programming for Data Analysis Project: Simulating a Dataset"
   ]
  },
  {
   "cell_type": "markdown",
   "metadata": {},
   "source": [
    "I found this project very hard to get a phenomenon that I was happy with.  My initial thought was to do a dataset with Economic Indicators but when I thought about it, something like currency or share prices are not random.  There is a  movement to them rather than just purely a random set of numbers.\n",
    "\n",
    "Then I thought of doing a dataset on the length of the morning school trip with the variables of weather, time of year, day of the week, setting out time and how many cars were coming before we got out onto the main road.  But I thought that was too subjective and simplistic.\n",
    "\n",
    "I then turned my attention to the fact that there is no longer a job for life and how long people stay in their jobs and what factors cause them to movce jobs.  After getting no replies form the many online Irish jobs sites for information on their job surveys I shelved this idea.\n",
    "\n",
    "My attention then went back to the cso.ie website and I found a travel survey.  I had decided to look at a travel dataset. I wanted to look at how people travel, how long they travel for, distance covered and the reason for the travel all of these for inside and outside of dublin.  \n",
    "\n",
    "But because there were only 3 variables even though they would be doubled I decided to reexamine my initial thougths of doing a dataset from my degree in Economics and Finance and look at some of the following Economic indicators namely GDP, employment growth, new car sales, interest rates and the currency exchange rate with the British Pound Sterling.\n",
    "\n",
    "I eventually found a couple of ways to simulate share prices.  One is called Geometric Brownian Motion and the other is using cumulative sumation in time series.  Geometric Brownian Motion is very interesting and is used to simulate Share prices in the real world (it has its limitations in share price simulation) and I will adapt them to simulate the currency exchange rate of the euro and the British Pound Sterling.   "
   ]
  },
  {
   "cell_type": "code",
   "execution_count": 2,
   "metadata": {
    "scrolled": false
   },
   "outputs": [],
   "source": [
    "import numpy as np\n",
    "import matplotlib.pyplot as plt\n",
    "import pandas as pd\n",
    "import seaborn as sns"
   ]
  },
  {
   "cell_type": "code",
   "execution_count": null,
   "metadata": {
    "collapsed": true,
    "scrolled": false
   },
   "outputs": [],
   "source": []
  },
  {
   "cell_type": "code",
   "execution_count": null,
   "metadata": {
    "collapsed": true,
    "scrolled": false
   },
   "outputs": [],
   "source": []
  },
  {
   "cell_type": "code",
   "execution_count": null,
   "metadata": {
    "collapsed": true,
    "scrolled": false
   },
   "outputs": [],
   "source": [
    "prng = pd.period_range('01/2010', '09/2018', freq='M')\n",
    "\n"
   ]
  },
  {
   "cell_type": "code",
   "execution_count": null,
   "metadata": {
    "collapsed": true,
    "scrolled": false
   },
   "outputs": [],
   "source": [
    "data = np.array(['a','b','c','d'])\n",
    "s = pd.Series(data)\n",
    "print(s)"
   ]
  },
  {
   "cell_type": "code",
   "execution_count": 73,
   "metadata": {
    "collapsed": true,
    "scrolled": false
   },
   "outputs": [
    {
     "name": "stdout",
     "output_type": "stream",
     "text": [
      "100    a\n",
      "101    b\n",
      "102    c\n",
      "103    d\n",
      "dtype: object\n"
     ]
    }
   ],
   "source": [
    "data = np.array(['a','b','c','d'])\n",
    "s = pd.Series(data,index=[100,101,102,103])\n",
    "print(s)"
   ]
  },
  {
   "cell_type": "code",
   "execution_count": null,
   "metadata": {
    "collapsed": true,
    "scrolled": false
   },
   "outputs": [],
   "source": [
    "\n"
   ]
  },
  {
   "cell_type": "code",
   "execution_count": null,
   "metadata": {
    "collapsed": true,
    "scrolled": false
   },
   "outputs": [],
   "source": [
    "np.random.randint(-14.00, high=8.00, size=100, dtype='i')\n"
   ]
  },
  {
   "cell_type": "markdown",
   "metadata": {},
   "source": [
    "### GDP"
   ]
  },
  {
   "cell_type": "code",
   "execution_count": null,
   "metadata": {
    "collapsed": true,
    "scrolled": false
   },
   "outputs": [],
   "source": [
    "np.random.seed(123456)\n",
    "GDPchange = np.random.uniform(low=-13.8, high=14, size=(100,))\n",
    "GDPchange"
   ]
  },
  {
   "cell_type": "code",
   "execution_count": null,
   "metadata": {
    "collapsed": true,
    "scrolled": false
   },
   "outputs": [],
   "source": [
    "np.around(GDPchange, decimals=2, out=None)"
   ]
  },
  {
   "cell_type": "code",
   "execution_count": null,
   "metadata": {
    "collapsed": true,
    "scrolled": false
   },
   "outputs": [],
   "source": [
    "ts = pd.Series(GDPchange, index=pd.date_range('01/2010', '09/2018', periods=100))\n",
    "\n",
    "ts = ts.cumsum()\n",
    "\n",
    "ts.plot()"
   ]
  },
  {
   "cell_type": "markdown",
   "metadata": {},
   "source": [
    "### Currency Euro / British Pound Sterling"
   ]
  },
  {
   "cell_type": "code",
   "execution_count": null,
   "metadata": {
    "collapsed": true,
    "scrolled": false
   },
   "outputs": [],
   "source": [
    "np.random.randint(-.3, high=.4, size=100)"
   ]
  },
  {
   "cell_type": "code",
   "execution_count": null,
   "metadata": {
    "collapsed": true,
    "scrolled": false
   },
   "outputs": [],
   "source": [
    "start_price = .613\n",
    "y = pd.Series(eurogbp, start_price)\n",
    "y.plot()\n",
    "plt.show()"
   ]
  },
  {
   "cell_type": "code",
   "execution_count": null,
   "metadata": {
    "collapsed": true,
    "scrolled": false
   },
   "outputs": [],
   "source": []
  },
  {
   "cell_type": "code",
   "execution_count": null,
   "metadata": {
    "collapsed": true,
    "scrolled": false
   },
   "outputs": [],
   "source": [
    "np.random.seed(1234567)\n",
    "\n",
    "eurogbp = np.concatenate([.613],np.around(np.random.uniform(-.02, .03, 100), decimals=4, out=None))\n",
    "\n",
    "eurogbp"
   ]
  },
  {
   "cell_type": "code",
   "execution_count": null,
   "metadata": {
    "collapsed": true,
    "scrolled": false
   },
   "outputs": [],
   "source": [
    "ts = pd.Series(eurogbp, index=pd.date_range('01/2010', '09/2018', periods=100))\n",
    "\n",
    "ts = ts.cumsum()\n",
    "\n",
    "ts.plot()"
   ]
  },
  {
   "cell_type": "code",
   "execution_count": null,
   "metadata": {
    "collapsed": true,
    "scrolled": false
   },
   "outputs": [],
   "source": [
    "import numpy as np\n",
    "import matplotlib.pyplot as plt\n",
    "\n",
    "def random_walk(N,d):\n",
    "    walk = np.concatenate(([.613],np.cumsum(2*np.random.binomial(1,.5,N-1)-1)))\n",
    "    return walk\n",
    "\n",
    "plt.plot(np.arange(0,250),random_walk(250,1))\n",
    "plt.show()"
   ]
  },
  {
   "cell_type": "markdown",
   "metadata": {},
   "source": [
    "### New Car Sales"
   ]
  },
  {
   "cell_type": "markdown",
   "metadata": {},
   "source": [
    "I watched a news report showing the new car sales from November 2018 were announced and thought that it could be an interesting indicator of how an economy is preforming.  After thinking about it I am wondering if the distribution will be very skewed towards the start of the year and now with 2 new reg markers each year skewed towards January and July.  From looking at the cso.ie website my initial thoughts are that the Pareto distribution may\n",
    "be a good fit for this type of data but I am not sure.  \n",
    "\n",
    "Since 2016 the new registration period changed from 12 months to 6 months.  I have downloaded the new car registration figures from the cso.ie website.  I have tried as much as I can to approximate the data in each period.  I have synthesised each period and then aggregated them.\n",
    "\n"
   ]
  },
  {
   "cell_type": "code",
   "execution_count": null,
   "metadata": {
    "collapsed": true,
    "scrolled": false
   },
   "outputs": [],
   "source": []
  },
  {
   "cell_type": "code",
   "execution_count": null,
   "metadata": {
    "collapsed": true,
    "scrolled": false
   },
   "outputs": [],
   "source": []
  },
  {
   "cell_type": "code",
   "execution_count": null,
   "metadata": {
    "collapsed": true,
    "scrolled": false
   },
   "outputs": [],
   "source": []
  },
  {
   "cell_type": "code",
   "execution_count": null,
   "metadata": {
    "collapsed": true,
    "scrolled": false
   },
   "outputs": [],
   "source": []
  },
  {
   "cell_type": "code",
   "execution_count": 5,
   "metadata": {
    "scrolled": false
   },
   "outputs": [
    {
     "data": {
      "text/plain": [
       "array([107,  79,  76,  75,  72,  64,  37,  16,  12,   9,   5,   1])"
      ]
     },
     "execution_count": 5,
     "metadata": {},
     "output_type": "execute_result"
    }
   ],
   "source": [
    "np.random.seed(1)\n",
    "newcar09 = np.random.randint(125, size=12)\n",
    "newcar09 = np.sort(newcar09, axis=-1, kind='quicksort', order=None)\n",
    "newcar09[:] = newcar09[::-1]\n",
    "newcar09"
   ]
  },
  {
   "cell_type": "code",
   "execution_count": 6,
   "metadata": {
    "scrolled": false
   },
   "outputs": [
    {
     "data": {
      "text/plain": [
       "array([109, 104,  82,  75,  72,  49,  43,  40,  34,  22,  15,   7])"
      ]
     },
     "execution_count": 6,
     "metadata": {},
     "output_type": "execute_result"
    }
   ],
   "source": [
    "np.random.seed(2)\n",
    "newcar10 = np.random.randint(125, size=12)\n",
    "newcar10 = np.sort(newcar10, axis=-1, kind='quicksort', order=None)\n",
    "newcar10[:] = newcar10[::-1]\n",
    "newcar10"
   ]
  },
  {
   "cell_type": "code",
   "execution_count": 7,
   "metadata": {
    "scrolled": false
   },
   "outputs": [
    {
     "data": {
      "text/plain": [
       "array([137, 129, 122, 109, 104, 103,  94,  87,  58,  57,  55,  50])"
      ]
     },
     "execution_count": 7,
     "metadata": {},
     "output_type": "execute_result"
    }
   ],
   "source": [
    "np.random.seed(4)\n",
    "newcar11 = np.random.randint(150, size=12)\n",
    "newcar11 = np.sort(newcar11, axis=-1, kind='quicksort', order=None)\n",
    "newcar11[:] = newcar11[::-1]\n",
    "newcar11"
   ]
  },
  {
   "cell_type": "code",
   "execution_count": 8,
   "metadata": {
    "scrolled": false
   },
   "outputs": [
    {
     "data": {
      "text/plain": [
       "array([144, 143, 118, 113, 112,  99,  80,  73,  44,  27,   8,   7])"
      ]
     },
     "execution_count": 8,
     "metadata": {},
     "output_type": "execute_result"
    }
   ],
   "source": [
    "np.random.seed(5)\n",
    "newcar12 = np.random.randint(150, size=12)\n",
    "newcar12 = np.sort(newcar12, axis=-1, kind='quicksort', order=None)\n",
    "newcar12[:] = newcar12[::-1]\n",
    "newcar12"
   ]
  },
  {
   "cell_type": "code",
   "execution_count": 9,
   "metadata": {
    "scrolled": false
   },
   "outputs": [
    {
     "data": {
      "text/plain": [
       "array([109, 106, 106,  99,  84,  80,  79,  73,  62,  25,  10,   1])"
      ]
     },
     "execution_count": 9,
     "metadata": {},
     "output_type": "execute_result"
    }
   ],
   "source": [
    "np.random.seed(6)\n",
    "newcar13 = np.random.randint(125, size=12)\n",
    "newcar13 = np.sort(newcar13, axis=-1, kind='quicksort', order=None)\n",
    "newcar13[:] = newcar13[::-1]\n",
    "newcar13"
   ]
  },
  {
   "cell_type": "code",
   "execution_count": 10,
   "metadata": {
    "scrolled": false
   },
   "outputs": [
    {
     "data": {
      "text/plain": [
       "array([151, 142, 136, 110, 103,  92,  89,  72,  67,  42,  25,  23])"
      ]
     },
     "execution_count": 10,
     "metadata": {},
     "output_type": "execute_result"
    }
   ],
   "source": [
    "np.random.seed(7)\n",
    "newcar14 = np.random.randint(175, size=12)\n",
    "newcar14 = np.sort(newcar14, axis=-1, kind='quicksort', order=None)\n",
    "newcar14[:] = newcar14[::-1]\n",
    "newcar14"
   ]
  },
  {
   "cell_type": "code",
   "execution_count": 11,
   "metadata": {
    "scrolled": false
   },
   "outputs": [
    {
     "data": {
      "text/plain": [
       "array([195, 191, 136, 133, 109, 105, 104,  85,  84,  83,  60,  48])"
      ]
     },
     "execution_count": 11,
     "metadata": {},
     "output_type": "execute_result"
    }
   ],
   "source": [
    "np.random.seed(8)\n",
    "newcar15 = np.random.randint(210, size=12)\n",
    "newcar15 = np.sort(newcar15, axis=-1, kind='quicksort', order=None)\n",
    "newcar15[:] = newcar15[::-1]\n",
    "newcar15"
   ]
  },
  {
   "cell_type": "code",
   "execution_count": 12,
   "metadata": {
    "scrolled": false
   },
   "outputs": [
    {
     "data": {
      "text/plain": [
       "array([251, 126, 125,  65,  56,  22])"
      ]
     },
     "execution_count": 12,
     "metadata": {},
     "output_type": "execute_result"
    }
   ],
   "source": [
    "np.random.seed(9)\n",
    "newcar161 = np.random.randint(270, size=6)\n",
    "newcar161 = np.sort(newcar161, axis=-1, kind='quicksort', order=None)\n",
    "newcar161[:] = newcar161[::-1]\n",
    "newcar161"
   ]
  },
  {
   "cell_type": "code",
   "execution_count": 13,
   "metadata": {
    "scrolled": false
   },
   "outputs": [
    {
     "data": {
      "text/plain": [
       "array([182, 150, 126, 126,  92,  56])"
      ]
     },
     "execution_count": 13,
     "metadata": {},
     "output_type": "execute_result"
    }
   ],
   "source": [
    "np.random.seed(9)\n",
    "newcar162 = np.random.randint(220, size=6)\n",
    "newcar162 = np.sort(newcar162, axis=-1, kind='quicksort', order=None)\n",
    "newcar162[:] = newcar162[::-1]\n",
    "newcar162"
   ]
  },
  {
   "cell_type": "code",
   "execution_count": 14,
   "metadata": {
    "scrolled": false
   },
   "outputs": [
    {
     "data": {
      "text/plain": [
       "array([269, 191, 161,  91,  80,  71])"
      ]
     },
     "execution_count": 14,
     "metadata": {},
     "output_type": "execute_result"
    }
   ],
   "source": [
    "np.random.seed(11)\n",
    "newcar171 = np.random.randint(275, size=6)\n",
    "newcar171 = np.sort(newcar171, axis=-1, kind='quicksort', order=None)\n",
    "newcar171[:] = newcar171[::-1]\n",
    "newcar171"
   ]
  },
  {
   "cell_type": "code",
   "execution_count": 15,
   "metadata": {
    "scrolled": false
   },
   "outputs": [
    {
     "data": {
      "text/plain": [
       "array([195, 155, 134, 130,  75,   3])"
      ]
     },
     "execution_count": 15,
     "metadata": {},
     "output_type": "execute_result"
    }
   ],
   "source": [
    "np.random.seed(12)\n",
    "newcar172 = np.random.randint(220, size=6)\n",
    "newcar172 = np.sort(newcar172, axis=-1, kind='quicksort', order=None)\n",
    "newcar172[:] = newcar172[::-1]\n",
    "newcar172"
   ]
  },
  {
   "cell_type": "code",
   "execution_count": 16,
   "metadata": {
    "scrolled": false
   },
   "outputs": [
    {
     "data": {
      "text/plain": [
       "array([244, 230, 176, 153,  74,  16])"
      ]
     },
     "execution_count": 16,
     "metadata": {},
     "output_type": "execute_result"
    }
   ],
   "source": [
    "np.random.seed(13)\n",
    "newcar181 = np.random.randint(260, size=6)\n",
    "newcar181 = np.sort(newcar181, axis=-1, kind='quicksort', order=None)\n",
    "newcar181[:] = newcar181[::-1]\n",
    "newcar181"
   ]
  },
  {
   "cell_type": "code",
   "execution_count": 17,
   "metadata": {
    "scrolled": false
   },
   "outputs": [],
   "source": [
    "prng = pd.period_range('01/2009', '06/2018', freq='M')"
   ]
  },
  {
   "cell_type": "code",
   "execution_count": 18,
   "metadata": {
    "scrolled": false
   },
   "outputs": [
    {
     "data": {
      "text/plain": [
       "array([107,  79,  76,  75,  72,  64,  37,  16,  12,   9,   5,   1, 109,\n",
       "       104,  82,  75,  72,  49,  43,  40,  34,  22,  15,   7, 137, 129,\n",
       "       122, 109, 104, 103,  94,  87,  58,  57,  55,  50, 144, 143, 118,\n",
       "       113, 112,  99,  80,  73,  44,  27,   8,   7, 109, 106, 106,  99,\n",
       "        84,  80,  79,  73,  62,  25,  10,   1, 151, 142, 136, 110, 103,\n",
       "        92,  89,  72,  67,  42,  25,  23, 195, 191, 136, 133, 109, 105,\n",
       "       104,  85,  84,  83,  60,  48, 251, 126, 125,  65,  56,  22, 182,\n",
       "       150, 126, 126,  92,  56, 269, 191, 161,  91,  80,  71, 195, 155,\n",
       "       134, 130,  75,   3, 244, 230, 176, 153,  74,  16])"
      ]
     },
     "execution_count": 18,
     "metadata": {},
     "output_type": "execute_result"
    }
   ],
   "source": [
    "data = np.concatenate((newcar09, newcar10, newcar11, newcar12, newcar13, newcar14, newcar15, newcar161, newcar162, newcar171, newcar172, newcar181), axis=0)\n",
    "data"
   ]
  },
  {
   "cell_type": "code",
   "execution_count": 19,
   "metadata": {
    "scrolled": true
   },
   "outputs": [
    {
     "name": "stdout",
     "output_type": "stream",
     "text": [
      "           0\n",
      "2009-01  107\n",
      "2009-02   79\n",
      "2009-03   76\n",
      "2009-04   75\n",
      "2009-05   72\n",
      "2009-06   64\n",
      "           0\n",
      "2018-01  244\n",
      "2018-02  230\n",
      "2018-03  176\n",
      "2018-04  153\n",
      "2018-05   74\n",
      "2018-06   16\n"
     ]
    }
   ],
   "source": [
    "s = pd.Series(data,index=[prng])\n",
    "df=pd.DataFrame(s)\n",
    "print(df.head(6))\n",
    "print(df.tail(6))"
   ]
  },
  {
   "cell_type": "code",
   "execution_count": 34,
   "metadata": {
    "scrolled": false
   },
   "outputs": [
    {
     "data": {
      "text/plain": [
       "<matplotlib.axes._subplots.AxesSubplot at 0x1c585ff2d68>"
      ]
     },
     "execution_count": 34,
     "metadata": {},
     "output_type": "execute_result"
    },
    {
     "data": {
      "image/png": "[encoded data removed]",
      "text/plain": [
       "<Figure size 1440x1080 with 1 Axes>"
      ]
     },
     "metadata": {},
     "output_type": "display_data"
    }
   ],
   "source": [
    "\n",
    "sns.set(style=\"whitegrid\")\n",
    "sns.set(rc={'figure.figsize':(20,15)})\n",
    "sns.scatterplot(data=data)\n",
    "sns.lineplot(data=data, color=\"coral\", label=\"New Car Registrations 2009 - 2018\")\n"
   ]
  },
  {
   "cell_type": "code",
   "execution_count": null,
   "metadata": {},
   "outputs": [],
   "source": []
  },
  {
   "cell_type": "code",
   "execution_count": null,
   "metadata": {},
   "outputs": [],
   "source": []
  },
  {
   "cell_type": "code",
   "execution_count": null,
   "metadata": {},
   "outputs": [],
   "source": []
  },
  {
   "cell_type": "code",
   "execution_count": null,
   "metadata": {},
   "outputs": [],
   "source": []
  },
  {
   "cell_type": "code",
   "execution_count": null,
   "metadata": {},
   "outputs": [],
   "source": []
  },
  {
   "cell_type": "code",
   "execution_count": null,
   "metadata": {},
   "outputs": [],
   "source": []
  },
  {
   "cell_type": "code",
   "execution_count": null,
   "metadata": {},
   "outputs": [],
   "source": []
  },
  {
   "cell_type": "code",
   "execution_count": null,
   "metadata": {
    "scrolled": false
   },
   "outputs": [],
   "source": []
  },
  {
   "cell_type": "code",
   "execution_count": null,
   "metadata": {
    "scrolled": false
   },
   "outputs": [],
   "source": []
  },
  {
   "cell_type": "code",
   "execution_count": null,
   "metadata": {
    "scrolled": false
   },
   "outputs": [],
   "source": []
  },
  {
   "cell_type": "code",
   "execution_count": null,
   "metadata": {
    "scrolled": false
   },
   "outputs": [],
   "source": []
  },
  {
   "cell_type": "markdown",
   "metadata": {},
   "source": [
    "https://en.wikipedia.org/wiki/Brownian_motion\n",
    "\n",
    "https://en.wikipedia.org/wiki/Geometric_Brownian_motion\n",
    "\n",
    "https://www.scipy-lectures.org/intro/numpy/auto_examples/plot_randomwalk.html#sphx-glr-download-intro-numpy-auto-examples-plot-randomwalk-py\n",
    "\n",
    "https://stackoverflow.com/questions/16734621/random-walk-pandas\n",
    "\n",
    "http://pandas.pydata.org/pandas-docs/version/0.13/visualization.html\n",
    "\n",
    "https://www.cso.ie/px/pxeirestat/Statire/SelectVarVal/Define.asp?maintable=FIM02&PLanguage=0\n",
    "\n",
    "https://ec.europa.eu/eurostat/statistics-explained/index.php/Employment_statistics\n",
    "\n",
    "https://www.cso.ie/en/releasesandpublications/er/gfsq/governmentfinancestatisticsquarter12018/"
   ]
  }
 ],
 "metadata": {
  "kernelspec": {
   "display_name": "Python 3",
   "language": "python",
   "name": "python3"
  },
  "language_info": {
   "codemirror_mode": {
    "name": "ipython",
    "version": 3
   },
   "file_extension": ".py",
   "mimetype": "text/x-python",
   "name": "python",
   "nbconvert_exporter": "python",
   "pygments_lexer": "ipython3",
   "version": "3.7.0"
  }
 },
 "nbformat": 4,
 "nbformat_minor": 2
}
